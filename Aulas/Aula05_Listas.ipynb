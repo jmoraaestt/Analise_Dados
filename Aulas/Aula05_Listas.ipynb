{
 "cells": [
  {
   "cell_type": "markdown",
   "id": "8342c376-d865-4a63-b009-2fc163b5f77e",
   "metadata": {},
   "source": [
    "## Estruturas de Dados - Listas\n",
    "* Coleção ordenada e mutável;\n",
    "* Representadas por [ ] .\n"
   ]
  },
  {
   "cell_type": "code",
   "execution_count": 20,
   "id": "0d780673-602f-46ab-a219-4422fd1ff3db",
   "metadata": {},
   "outputs": [
    {
     "name": "stdout",
     "output_type": "stream",
     "text": [
      "['Mesa', 'Vela', 'Caneta']\n"
     ]
    }
   ],
   "source": [
    "lista_itens = [\"Mesa\", \"Vela\", \"Caneta\"]\n",
    "print(lista_itens)"
   ]
  },
  {
   "cell_type": "markdown",
   "id": "e38c1978-a3b4-49a9-a061-0dee28432a9f",
   "metadata": {},
   "source": [
    "* Para acessar um item, utiliza-se o índice."
   ]
  },
  {
   "cell_type": "code",
   "execution_count": 18,
   "id": "5a934c5a-90f5-4f24-810f-394b2b90f8c4",
   "metadata": {},
   "outputs": [
    {
     "name": "stdout",
     "output_type": "stream",
     "text": [
      "Vela\n"
     ]
    }
   ],
   "source": [
    "lista_itens = [\"Mesa\", \"Vela\", \"Caneta\"]\n",
    "print(lista_itens[1])"
   ]
  },
  {
   "cell_type": "markdown",
   "id": "a143ffaa-7b7c-49a8-a823-cfcc7b195ecb",
   "metadata": {},
   "source": [
    "### Indexação Negativa"
   ]
  },
  {
   "cell_type": "code",
   "execution_count": 15,
   "id": "53380cc8-5f21-41eb-9057-a4e6db62a428",
   "metadata": {},
   "outputs": [
    {
     "name": "stdout",
     "output_type": "stream",
     "text": [
      "Caneta\n"
     ]
    }
   ],
   "source": [
    "lista_itens = [\"Mesa\", \"Vela\", \"Caneta\"]\n",
    "print(lista_itens[-1])"
   ]
  },
  {
   "cell_type": "markdown",
   "id": "25cb8153-10b7-4e9b-b99a-49ee6710fe42",
   "metadata": {},
   "source": [
    "### Acessando os Itens da Lista"
   ]
  },
  {
   "cell_type": "code",
   "execution_count": 28,
   "id": "3ab79048-9eba-45ea-a35d-e7964aef1b69",
   "metadata": {},
   "outputs": [
    {
     "name": "stdout",
     "output_type": "stream",
     "text": [
      "['Girafa', 'Tigre', 'Elefante']\n"
     ]
    }
   ],
   "source": [
    "lista_animais = [\"Gorila\", \"Macaco\", \"Girafa\", \"Tigre\", \"Elefante\"]\n",
    "print(lista_animais[2:5])"
   ]
  },
  {
   "cell_type": "code",
   "execution_count": 30,
   "id": "8f3a0e1d-4379-4395-b0e7-922f489c6db9",
   "metadata": {},
   "outputs": [
    {
     "name": "stdout",
     "output_type": "stream",
     "text": [
      "['Gorila', 'Macaco', 'Girafa', 'Tigre']\n"
     ]
    }
   ],
   "source": [
    "lista_animais = [\"Gorila\", \"Macaco\", \"Girafa\", \"Tigre\", \"Elefante\"]\n",
    "print(lista_animais[:4])"
   ]
  },
  {
   "cell_type": "code",
   "execution_count": 32,
   "id": "8cba888d-532e-445b-9f2f-bc06db65d16b",
   "metadata": {},
   "outputs": [
    {
     "name": "stdout",
     "output_type": "stream",
     "text": [
      "['Girafa', 'Tigre', 'Elefante']\n"
     ]
    }
   ],
   "source": [
    "lista_animais = [\"Gorila\", \"Macaco\", \"Girafa\", \"Tigre\", \"Elefante\"]\n",
    "print(lista_animais[2:])"
   ]
  },
  {
   "cell_type": "code",
   "execution_count": 34,
   "id": "629570b4-c872-47b1-ac1c-bfc6a91c93e8",
   "metadata": {},
   "outputs": [
    {
     "name": "stdout",
     "output_type": "stream",
     "text": [
      "['Macaco', 'Girafa', 'Tigre']\n"
     ]
    }
   ],
   "source": [
    "lista_animais = [\"Gorila\", \"Macaco\", \"Girafa\", \"Tigre\", \"Elefante\"]\n",
    "print(lista_animais[-4:-1])"
   ]
  },
  {
   "cell_type": "markdown",
   "id": "68fde7b4-5a08-42f0-b80a-111aca0e52fa",
   "metadata": {},
   "source": [
    "### Alterando o Valor de Um Item\n",
    "* Para isso, utilizamos o índice."
   ]
  },
  {
   "cell_type": "code",
   "execution_count": 40,
   "id": "29124d7d-c5db-4484-b699-c3781df8e7f4",
   "metadata": {},
   "outputs": [
    {
     "name": "stdout",
     "output_type": "stream",
     "text": [
      "['Gorila', 'Passarinho', 'Girafa', 'Tigre', 'Elefante']\n"
     ]
    }
   ],
   "source": [
    "lista_animais = [\"Gorila\", \"Macaco\", \"Girafa\", \"Tigre\", \"Elefante\"]\n",
    "lista_animais[1] = \"Passarinho\"\n",
    "print(lista_animais)"
   ]
  },
  {
   "cell_type": "markdown",
   "id": "861d7348-55cf-4cea-b545-196579eab6c7",
   "metadata": {},
   "source": [
    "### Percorrer uma Lista\n",
    "* Utilizamos um loop for."
   ]
  },
  {
   "cell_type": "code",
   "execution_count": 47,
   "id": "3592055c-cff7-44b2-b1ab-61cebe13daa7",
   "metadata": {},
   "outputs": [
    {
     "name": "stdout",
     "output_type": "stream",
     "text": [
      "Gorila\n",
      "Macaco\n",
      "Girafa\n",
      "Tigre\n",
      "Elefante\n"
     ]
    }
   ],
   "source": [
    "lista_animais = [\"Gorila\", \"Macaco\", \"Girafa\", \"Tigre\", \"Elefante\"]\n",
    "for x in lista_animais:\n",
    "    print(x)"
   ]
  },
  {
   "cell_type": "markdown",
   "id": "b74697ed-1e7d-4a7b-9bb3-7c1c0afd0b63",
   "metadata": {},
   "source": [
    "### Verificando a Existência de Um Item"
   ]
  },
  {
   "cell_type": "code",
   "execution_count": 52,
   "id": "634a6fca-2386-4f55-94cc-0ba0055cb734",
   "metadata": {},
   "outputs": [
    {
     "name": "stdout",
     "output_type": "stream",
     "text": [
      "Existe um Gorila entre os animais\n"
     ]
    }
   ],
   "source": [
    "lista_animais = [\"Gorila\", \"Macaco\", \"Girafa\", \"Tigre\", \"Elefante\"]\n",
    "if \"Gorila\" in lista_animais:\n",
    "    print(\"Existe um Gorila entre os animais\")"
   ]
  },
  {
   "cell_type": "markdown",
   "id": "f77a147b-1b89-4c29-a300-c6ecf3da5376",
   "metadata": {},
   "source": [
    "### Verificando o Tamanho de uma Lista"
   ]
  },
  {
   "cell_type": "code",
   "execution_count": 55,
   "id": "4119f0bc-1afd-4ef8-80d7-42806b2f76bf",
   "metadata": {},
   "outputs": [
    {
     "name": "stdout",
     "output_type": "stream",
     "text": [
      "5\n"
     ]
    }
   ],
   "source": [
    "lista_animais = [\"Gorila\", \"Macaco\", \"Girafa\", \"Tigre\", \"Elefante\"]\n",
    "print(len(lista_animais))"
   ]
  },
  {
   "cell_type": "markdown",
   "id": "34eb9d0e-3981-4ef5-a9ee-bab0d258512e",
   "metadata": {},
   "source": [
    "### Adicionar Itens"
   ]
  },
  {
   "cell_type": "markdown",
   "id": "2efe4aee-0f97-4e90-a825-10d09a9bfd64",
   "metadata": {},
   "source": [
    "* Utilizando o método **append()**"
   ]
  },
  {
   "cell_type": "code",
   "execution_count": 65,
   "id": "2b7bb6b7-eb8f-41f9-935e-e9f0a88198e2",
   "metadata": {},
   "outputs": [
    {
     "name": "stdout",
     "output_type": "stream",
     "text": [
      "['Verde', 'Amarelo', 'Azul', 'Marrom', 'Rosa', 'Dourado']\n"
     ]
    }
   ],
   "source": [
    "lista_cores = [\"Verde\", \"Amarelo\", \"Azul\", \"Marrom\", \"Rosa\"]\n",
    "lista_cores.append(\"Dourado\")\n",
    "print(lista_cores)"
   ]
  },
  {
   "cell_type": "markdown",
   "id": "56bc073c-fb23-4427-95e7-e67d99445685",
   "metadata": {},
   "source": [
    "* Utilizando o método **insert()**"
   ]
  },
  {
   "cell_type": "code",
   "execution_count": 70,
   "id": "5b2aa6b6-21c6-422a-8dc6-cef1575df4eb",
   "metadata": {},
   "outputs": [
    {
     "name": "stdout",
     "output_type": "stream",
     "text": [
      "['Verde', 'Amarelo', 'Roxo', 'Azul', 'Marrom', 'Rosa']\n"
     ]
    }
   ],
   "source": [
    "lista_cores = [\"Verde\", \"Amarelo\", \"Azul\", \"Marrom\", \"Rosa\"]\n",
    "lista_cores.insert(2, \"Roxo\")\n",
    "print(lista_cores)"
   ]
  },
  {
   "cell_type": "markdown",
   "id": "c93299f1-02e8-49f5-8cb2-5ac76d597667",
   "metadata": {},
   "source": [
    "### Remover Itens"
   ]
  },
  {
   "cell_type": "markdown",
   "id": "16a5b124-5f5b-4f30-8b45-5d922b0a2064",
   "metadata": {},
   "source": [
    "* Utilizando o método **remove()**"
   ]
  },
  {
   "cell_type": "code",
   "execution_count": 74,
   "id": "ccba8abc-feaa-4d56-bcdd-21caa09a2913",
   "metadata": {},
   "outputs": [
    {
     "name": "stdout",
     "output_type": "stream",
     "text": [
      "['Verde', 'Amarelo', 'Marrom', 'Rosa']\n"
     ]
    }
   ],
   "source": [
    "lista_cores = [\"Verde\", \"Amarelo\", \"Azul\", \"Marrom\", \"Rosa\"]\n",
    "lista_cores.remove(\"Azul\")\n",
    "print(lista_cores)"
   ]
  },
  {
   "cell_type": "markdown",
   "id": "f0afb79f-3ea5-4e14-8238-309e7006b92a",
   "metadata": {},
   "source": [
    "* Utilizando o método **pop()** - Remove o último índice caso não tenha sido indicado"
   ]
  },
  {
   "cell_type": "code",
   "execution_count": 87,
   "id": "3539994a-7f39-49ee-a738-d52e41ff7f99",
   "metadata": {},
   "outputs": [
    {
     "name": "stdout",
     "output_type": "stream",
     "text": [
      "['Verde', 'Amarelo', 'Azul', 'Rosa']\n"
     ]
    }
   ],
   "source": [
    "lista_cores = [\"Verde\", \"Amarelo\", \"Azul\", \"Marrom\", \"Rosa\"]\n",
    "lista_cores.pop(3)\n",
    "print(lista_cores)"
   ]
  },
  {
   "cell_type": "code",
   "execution_count": 79,
   "id": "1d4fb252-9d4f-420a-9d5c-11e458b0c8d0",
   "metadata": {},
   "outputs": [
    {
     "data": {
      "text/plain": [
       "'Rosa'"
      ]
     },
     "execution_count": 79,
     "metadata": {},
     "output_type": "execute_result"
    }
   ],
   "source": [
    "lista_cores.pop()"
   ]
  },
  {
   "cell_type": "code",
   "execution_count": 85,
   "id": "123de318-d7cc-4067-bf81-e1102f332f06",
   "metadata": {},
   "outputs": [
    {
     "name": "stdout",
     "output_type": "stream",
     "text": [
      "Rosa\n",
      "Marrom\n",
      "Azul\n",
      "Amarelo\n",
      "Verde\n"
     ]
    }
   ],
   "source": [
    "lista_cores = [\"Verde\", \"Amarelo\", \"Azul\", \"Marrom\", \"Rosa\"]\n",
    "while len(lista_cores) > 0:\n",
    "  print(lista_cores.pop())"
   ]
  },
  {
   "cell_type": "markdown",
   "id": "6059d1a9-e08e-4fe0-bc56-b47e0324b324",
   "metadata": {},
   "source": [
    "* Utilizando o método **del()**"
   ]
  },
  {
   "cell_type": "code",
   "execution_count": 94,
   "id": "58373286-80cb-4a2f-b5d3-e45bb8c1efbe",
   "metadata": {},
   "outputs": [
    {
     "name": "stdout",
     "output_type": "stream",
     "text": [
      "['Verde', 'Azul', 'Marrom', 'Rosa']\n"
     ]
    }
   ],
   "source": [
    "lista_cores = [\"Verde\", \"Amarelo\", \"Azul\", \"Marrom\", \"Rosa\"]\n",
    "del lista_cores[1]\n",
    "print(lista_cores)"
   ]
  },
  {
   "cell_type": "markdown",
   "id": "c0cb574e-98d7-4458-a2f0-bd83744df797",
   "metadata": {},
   "source": [
    "* Utilizando o método **clear()** - Limpa a lista"
   ]
  },
  {
   "cell_type": "code",
   "execution_count": 97,
   "id": "c8d5151e-be38-4c1e-9916-20fdc3cd5998",
   "metadata": {},
   "outputs": [
    {
     "name": "stdout",
     "output_type": "stream",
     "text": [
      "[]\n"
     ]
    }
   ],
   "source": [
    "lista_cores = [\"Verde\", \"Amarelo\", \"Azul\", \"Marrom\", \"Rosa\"]\n",
    "lista_cores.clear()\n",
    "print(lista_cores)"
   ]
  },
  {
   "cell_type": "markdown",
   "id": "9c95aa15-4683-4927-9db4-7b6adcf052df",
   "metadata": {},
   "source": [
    "### Copiando Uma Lista"
   ]
  },
  {
   "cell_type": "markdown",
   "id": "16b745d2-f7dc-474d-be19-e5eeac951016",
   "metadata": {},
   "source": [
    "* Não-se pode copiar uma lista simplesmente digitando list2 = list1 A list2 será uma referência a list1 As alterações feitas em list1 refletirão na list2."
   ]
  },
  {
   "cell_type": "markdown",
   "id": "9f5e4e8d-8739-4db6-b7e7-b87eac32fe34",
   "metadata": {},
   "source": [
    "* Utilizando o método **copy()**"
   ]
  },
  {
   "cell_type": "code",
   "execution_count": 7,
   "id": "fa62a773-584b-4591-bee5-44056fd26d6b",
   "metadata": {},
   "outputs": [
    {
     "name": "stdout",
     "output_type": "stream",
     "text": [
      "['Verde', 'Amarelo', 'Azul', 'Marrom', 'Rosa']\n"
     ]
    }
   ],
   "source": [
    "lista_cores = [\"Verde\", \"Amarelo\", \"Azul\", \"Marrom\", \"Rosa\"]\n",
    "lista_copiada = lista_cores.copy()\n",
    "print(lista_copiada)"
   ]
  },
  {
   "cell_type": "markdown",
   "id": "b2a3dbd5-7056-4c2b-8ed1-0b3fbdbdb017",
   "metadata": {},
   "source": [
    "* Utiliza o método **list()**"
   ]
  },
  {
   "cell_type": "code",
   "execution_count": 16,
   "id": "9d2bd6f5-b6e8-4d72-8a20-4b69dff45b0a",
   "metadata": {},
   "outputs": [
    {
     "name": "stdout",
     "output_type": "stream",
     "text": [
      "['Verde', 'Amarelo', 'Azul', 'Marrom', 'Rosa']\n"
     ]
    }
   ],
   "source": [
    "lista_cores = [\"Verde\", \"Amarelo\", \"Azul\", \"Marrom\", \"Rosa\"]\n",
    "lista_copiada = list(lista_cores)\n",
    "print(lista_copiada)"
   ]
  },
  {
   "cell_type": "markdown",
   "id": "624d3482-2b38-4b28-a584-887a2c90eef1",
   "metadata": {},
   "source": [
    "### Juntando Duas Listas"
   ]
  },
  {
   "cell_type": "code",
   "execution_count": 19,
   "id": "6ef27101-dca7-467b-8909-5a6f40267961",
   "metadata": {},
   "outputs": [
    {
     "name": "stdout",
     "output_type": "stream",
     "text": [
      "['a', 'b', 'c', 1, 2, 3]\n"
     ]
    }
   ],
   "source": [
    "list1 = [\"a\", \"b\", \"c\"]\n",
    "list2 = [1, 2, 3]\n",
    "list3 = list1 + list2\n",
    "print(list3)"
   ]
  },
  {
   "cell_type": "code",
   "execution_count": 23,
   "id": "6d3423f7-8868-4bb6-ae8a-eb9fde865269",
   "metadata": {},
   "outputs": [
    {
     "name": "stdout",
     "output_type": "stream",
     "text": [
      "['a', 'b', 'c', 1, 2, 3]\n"
     ]
    }
   ],
   "source": [
    "list1 = [\"a\", \"b\", \"c\"]\n",
    "list2 = [1, 2, 3]\n",
    "\n",
    "for x in list2:\n",
    "    list1.append(x)\n",
    "print(list1)"
   ]
  },
  {
   "cell_type": "markdown",
   "id": "2827d7bd-9e67-476b-ac31-d5e46aa49521",
   "metadata": {},
   "source": [
    "* Utilizando o método **extend()**"
   ]
  },
  {
   "cell_type": "code",
   "execution_count": 29,
   "id": "6f0f0d70-cf86-4098-8c4a-f89b94c48fcb",
   "metadata": {},
   "outputs": [
    {
     "name": "stdout",
     "output_type": "stream",
     "text": [
      "['a', 'b', 'c', 1, 2, 3]\n"
     ]
    }
   ],
   "source": [
    "list1 = [\"a\", \"b\", \"c\"]\n",
    "list2 = [1, 2, 3]\n",
    "\n",
    "list1.extend(list2)\n",
    "print(list1)"
   ]
  },
  {
   "cell_type": "markdown",
   "id": "a9e865b0-5666-41be-829d-a24272d183d7",
   "metadata": {},
   "source": [
    "### Métodos da Lista"
   ]
  },
  {
   "cell_type": "markdown",
   "id": "632c16e5-91b5-4559-a3b7-1720e840fe55",
   "metadata": {},
   "source": [
    "* count() Retorna o número de elementos com o valor especificado\n",
    "* reverse() Inverte a ordem da lista\n",
    "* sort() Classifica a lista"
   ]
  },
  {
   "cell_type": "code",
   "execution_count": 35,
   "id": "403e9e45-0efe-4552-a029-166d9229b969",
   "metadata": {},
   "outputs": [
    {
     "data": {
      "text/plain": [
       "2"
      ]
     },
     "execution_count": 35,
     "metadata": {},
     "output_type": "execute_result"
    }
   ],
   "source": [
    "lista = [\"a\", \"b\" , \"c\" , 1, 2, 3, \"a\", \"b\" , \"c\" , 1, 2, 3]\n",
    "lista.count(\"a\")"
   ]
  },
  {
   "cell_type": "code",
   "execution_count": 37,
   "id": "72dd2887-bb9d-4e3d-a091-c3e410e7f9b2",
   "metadata": {},
   "outputs": [
    {
     "name": "stdout",
     "output_type": "stream",
     "text": [
      "[4, 3, 2, 1, 10]\n"
     ]
    }
   ],
   "source": [
    "lista = [10, 1, 2, 3, 4]\n",
    "lista.reverse()\n",
    "print(lista)"
   ]
  },
  {
   "cell_type": "code",
   "execution_count": null,
   "id": "855ca1bd-21a3-4ce6-9e14-3e4d0bcd1671",
   "metadata": {},
   "outputs": [],
   "source": []
  }
 ],
 "metadata": {
  "kernelspec": {
   "display_name": "Python 3 (ipykernel)",
   "language": "python",
   "name": "python3"
  },
  "language_info": {
   "codemirror_mode": {
    "name": "ipython",
    "version": 3
   },
   "file_extension": ".py",
   "mimetype": "text/x-python",
   "name": "python",
   "nbconvert_exporter": "python",
   "pygments_lexer": "ipython3",
   "version": "3.12.7"
  }
 },
 "nbformat": 4,
 "nbformat_minor": 5
}
