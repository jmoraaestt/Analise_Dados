{
 "cells": [
  {
   "cell_type": "markdown",
   "id": "179c2cf8-3b11-41e8-a2e7-8b6a78e98822",
   "metadata": {},
   "source": [
    "## Estruturas de Dados - Tuplas"
   ]
  },
  {
   "cell_type": "markdown",
   "id": "70129e8c-742c-43f1-967b-cff8bf3b17a9",
   "metadata": {},
   "source": [
    "### Características das Tuplas - tuple:\n",
    "* Coleções imutáveis e ordenadas;\n",
    "* São declaradas com ( )."
   ]
  },
  {
   "cell_type": "code",
   "execution_count": 92,
   "id": "33522e51-17a3-4ed8-902e-776476395599",
   "metadata": {},
   "outputs": [
    {
     "name": "stdout",
     "output_type": "stream",
     "text": [
      "('Amarelo', 'Azul', 'Vermelho', 'Rosa', 'Marrom')\n"
     ]
    },
    {
     "data": {
      "text/plain": [
       "tuple"
      ]
     },
     "execution_count": 92,
     "metadata": {},
     "output_type": "execute_result"
    }
   ],
   "source": [
    "tupla_cores = (\"Amarelo\", \"Azul\", \"Vermelho\", \"Rosa\", \"Marrom\")\n",
    "print(tupla_cores)\n",
    "type(tupla_cores) # Verificando o tipo de coleção"
   ]
  },
  {
   "cell_type": "code",
   "execution_count": 29,
   "id": "8c25d3e7-d674-4331-a051-6def9ad06cb5",
   "metadata": {},
   "outputs": [
    {
     "name": "stdout",
     "output_type": "stream",
     "text": [
      "('Amarelo', 1, 'Azul', 3, 'Vermelho', 'Rosa', 4, 'Marrom')\n"
     ]
    }
   ],
   "source": [
    "tupla_cores = (\"Amarelo\",1, \"Azul\",3,\"Vermelho\", \"Rosa\",4,\"Marrom\")\n",
    "print(tupla_cores)"
   ]
  },
  {
   "cell_type": "markdown",
   "id": "7fd367e1-ea8c-48fe-aa72-41235978e4b6",
   "metadata": {},
   "source": [
    "### Acessando os Itens de uma Tupla"
   ]
  },
  {
   "cell_type": "markdown",
   "id": "caa01336-7fde-43cb-b72c-0171e5f85e6d",
   "metadata": {},
   "source": [
    "* Para acessar itens de tupla utilize o número do índice, entre colchetes:"
   ]
  },
  {
   "cell_type": "code",
   "execution_count": 90,
   "id": "b38a6247-04e5-4129-9dc0-7e299a6e1df6",
   "metadata": {},
   "outputs": [
    {
     "name": "stdout",
     "output_type": "stream",
     "text": [
      "Rosa\n"
     ]
    }
   ],
   "source": [
    "tupla_cores = (\"Amarelo\", \"Azul\", \"Vermelho\", \"Rosa\", \"Marrom\")\n",
    "print(tupla_cores[3])"
   ]
  },
  {
   "cell_type": "markdown",
   "id": "50822cb5-3600-4577-91bb-2dd44afc1b74",
   "metadata": {
    "scrolled": true
   },
   "source": [
    "* Também é viável utilizar indexação negativa"
   ]
  },
  {
   "cell_type": "code",
   "execution_count": 41,
   "id": "d4286dca-3189-4156-b534-b5d59b11a4b2",
   "metadata": {},
   "outputs": [
    {
     "name": "stdout",
     "output_type": "stream",
     "text": [
      "Marrom\n"
     ]
    }
   ],
   "source": [
    "tupla_cores = (\"Amarelo\", \"Azul\", \"Vermelho\", \"Rosa\", \"Marrom\")\n",
    "print(tupla_cores[-1])"
   ]
  },
  {
   "cell_type": "markdown",
   "id": "9197e4b0-8bc4-4de1-bf2c-3e2dd99e229d",
   "metadata": {},
   "source": [
    "* Podemos utilizar índices com intervalos"
   ]
  },
  {
   "cell_type": "code",
   "execution_count": 88,
   "id": "77255428-6d72-4ca7-a0ea-5dc088874249",
   "metadata": {},
   "outputs": [
    {
     "name": "stdout",
     "output_type": "stream",
     "text": [
      "('Vermelho', 'Rosa', 'Marrom')\n"
     ]
    }
   ],
   "source": [
    "tupla_cores = (\"Amarelo\", \"Azul\", \"Vermelho\", \"Rosa\", \"Marrom\", \"Verde\")\n",
    "print(tupla_cores[2:5])"
   ]
  },
  {
   "cell_type": "markdown",
   "id": "2c3797d3-c4b7-466a-aeba-63b37e44ebff",
   "metadata": {},
   "source": [
    "* Podemos utilizar índices com intervalos usando indexação negativa"
   ]
  },
  {
   "cell_type": "code",
   "execution_count": 58,
   "id": "8253aef1-65be-46c5-88d8-33008f7f9501",
   "metadata": {},
   "outputs": [
    {
     "name": "stdout",
     "output_type": "stream",
     "text": [
      "('Vermelho', 'Rosa', 'Marrom')\n"
     ]
    }
   ],
   "source": [
    "tupla_cores = (\"Amarelo\", \"Azul\", \"Vermelho\", \"Rosa\", \"Marrom\", \"Verde\")\n",
    "print(tupla_cores[-4:-1])"
   ]
  },
  {
   "cell_type": "code",
   "execution_count": 60,
   "id": "f5feb3fe-9ae4-4103-b1c0-0b1d1cd888d6",
   "metadata": {},
   "outputs": [
    {
     "name": "stdout",
     "output_type": "stream",
     "text": [
      "('Vermelho', 'Rosa', 'Marrom', 'Verde')\n"
     ]
    }
   ],
   "source": [
    "tupla_cores = (\"Amarelo\", \"Azul\", \"Vermelho\", \"Rosa\", \"Marrom\", \"Verde\")\n",
    "print(tupla_cores[-4:])"
   ]
  },
  {
   "cell_type": "code",
   "execution_count": 62,
   "id": "f00d4649-25dc-400a-8a03-44c8a5a1b818",
   "metadata": {},
   "outputs": [
    {
     "name": "stdout",
     "output_type": "stream",
     "text": [
      "('Amarelo', 'Azul')\n"
     ]
    }
   ],
   "source": [
    "tupla_cores = (\"Amarelo\", \"Azul\", \"Vermelho\", \"Rosa\", \"Marrom\", \"Verde\")\n",
    "print(tupla_cores[:-4])"
   ]
  },
  {
   "cell_type": "markdown",
   "id": "a714929b-74be-49dc-a74d-9cb038a6ede0",
   "metadata": {},
   "source": [
    "### Alterando os Valores da Tupla"
   ]
  },
  {
   "cell_type": "markdown",
   "id": "090311b3-889f-4da2-a565-ae23830a7f08",
   "metadata": {},
   "source": [
    "* As tuplas são imutáveis, por isso, para alterar algum valor, deve-se primeiro ser transformada em uma lista e após em uma tupla novamente."
   ]
  },
  {
   "cell_type": "code",
   "execution_count": 74,
   "id": "b2f81b7d-b331-487d-ac6f-5557ee3e06f8",
   "metadata": {},
   "outputs": [
    {
     "name": "stdout",
     "output_type": "stream",
     "text": [
      "(12, 99, 21, 32)\n"
     ]
    }
   ],
   "source": [
    "tupla_numeros = (12,54,21,32)\n",
    "lista_numeros = list(tupla_numeros)\n",
    "lista_numeros[1] = 99\n",
    "tupla_numeros = tuple(lista_numeros)\n",
    "\n",
    "print(tupla_numeros)"
   ]
  },
  {
   "cell_type": "markdown",
   "id": "d1583a98-25c7-4fbe-a9df-ddcde736a271",
   "metadata": {},
   "source": [
    "### Loop Através de uma Tupla Usando um Forloop."
   ]
  },
  {
   "cell_type": "code",
   "execution_count": 116,
   "id": "922b1355-a61d-479b-b91e-c73906169d47",
   "metadata": {},
   "outputs": [
    {
     "name": "stdout",
     "output_type": "stream",
     "text": [
      "Carla\n",
      "Mariana\n",
      "Henrique\n",
      "Cristina\n"
     ]
    }
   ],
   "source": [
    "tupla_nomes = (\"Carla\", \"Mariana\", \"Henrique\", \"Cristina\")\n",
    "for x in tupla_nomes:\n",
    "    print(x)"
   ]
  },
  {
   "cell_type": "markdown",
   "id": "156bd664-41bc-4110-a358-e42df89bb75c",
   "metadata": {},
   "source": [
    "### Verificando a Existência de um Item na Tupla"
   ]
  },
  {
   "cell_type": "code",
   "execution_count": 112,
   "id": "a5dc119e-3574-4293-b03a-5e23b1108dea",
   "metadata": {},
   "outputs": [
    {
     "name": "stdout",
     "output_type": "stream",
     "text": [
      "A Carla está presente na tupla nomes\n"
     ]
    }
   ],
   "source": [
    "tupla_nomes = (\"Carla\", \"Mariana\", \"Henrique\", \"Cristina\")\n",
    "if \"Carla\" in tupla_nomes:\n",
    "    print(\"A Carla está presente na tupla nomes\")"
   ]
  },
  {
   "cell_type": "markdown",
   "id": "8f35b834-7c6b-49ae-a7e7-8034e21e0a19",
   "metadata": {},
   "source": [
    "### Verificando o Tamanho de uma Tupla"
   ]
  },
  {
   "cell_type": "code",
   "execution_count": 114,
   "id": "40e11c6f-9d61-46ca-b506-af90b08c8710",
   "metadata": {},
   "outputs": [
    {
     "name": "stdout",
     "output_type": "stream",
     "text": [
      "4\n"
     ]
    }
   ],
   "source": [
    "tupla_nomes = (\"Carla\", \"Mariana\", \"Henrique\", \"Cristina\")\n",
    "print(len(tupla_nomes))"
   ]
  },
  {
   "cell_type": "markdown",
   "id": "6e100c15-6649-41c1-bfa3-5996a6592b1e",
   "metadata": {},
   "source": [
    "### Adicionando Itens em uma Tupla"
   ]
  },
  {
   "cell_type": "markdown",
   "id": "62c49bc6-6909-4a45-8a2c-a557750f6a61",
   "metadata": {},
   "source": [
    "* Como as tuplas são imutáveis, se torna necessário ser transformada em uma lista e após em uma tupla novamente."
   ]
  },
  {
   "cell_type": "code",
   "execution_count": 129,
   "id": "06e34427-be38-4ecb-8757-597cb720766f",
   "metadata": {},
   "outputs": [
    {
     "name": "stdout",
     "output_type": "stream",
     "text": [
      "('cavalo', 'porco', 'urso', 'macaco')\n"
     ]
    }
   ],
   "source": [
    "tupla_animais = (\"cavalo\", \"porco\", \"urso\")\n",
    "lista_animais = list(tupla_animais)\n",
    "lista_animais.append(\"macaco\")\n",
    "tupla_animais = tuple(lista_animais)\n",
    "\n",
    "print(tupla_animais)"
   ]
  },
  {
   "cell_type": "markdown",
   "id": "efe8bf5e-e9d2-4164-a7b3-c455b264e253",
   "metadata": {},
   "source": [
    "### Remover Itens"
   ]
  },
  {
   "cell_type": "markdown",
   "id": "7b190d91-1dfb-4b5d-ab0f-80e4200d926f",
   "metadata": {},
   "source": [
    "* Não é possível remover os itens de uma tupla, apenas deletá-la."
   ]
  },
  {
   "cell_type": "code",
   "execution_count": null,
   "id": "c64756ee-8f64-420d-a3e5-e44e4fdde3af",
   "metadata": {},
   "outputs": [],
   "source": [
    "tupla_regioes = (\"Norte\", \"Sul\", \"Sudeste\",\"Nordeste\", \"Centro Oeste\")\n",
    "del tupla_regioes\n",
    "print(tupla_regioes) #Erro pois nao existe  mais"
   ]
  },
  {
   "cell_type": "markdown",
   "id": "96ece541-5cf5-4b9d-863a-31eb6d420da2",
   "metadata": {},
   "source": [
    "### Juntar Duas Tuplas"
   ]
  },
  {
   "cell_type": "markdown",
   "id": "6a38eae1-7d29-4d4a-8b85-21350b1e0541",
   "metadata": {},
   "source": [
    "* Usamos o operador +"
   ]
  },
  {
   "cell_type": "code",
   "execution_count": 141,
   "id": "d9978ec9-1c96-43a7-96db-fd14d212ea26",
   "metadata": {},
   "outputs": [
    {
     "name": "stdout",
     "output_type": "stream",
     "text": [
      "(12, 29, 80, 'maria', 'carlos', 'irineu')\n"
     ]
    }
   ],
   "source": [
    "tupla_idade = (12,29,80)\n",
    "tupla_nome = (\"maria\", \"carlos\", \"irineu\")\n",
    "tupla_juncao = tupla_idade + tupla_nome\n",
    "\n",
    "print(tupla_juncao)"
   ]
  },
  {
   "cell_type": "markdown",
   "id": "94b38295-c52c-44d5-8400-377d60a15e1a",
   "metadata": {},
   "source": [
    "### Métodos"
   ]
  },
  {
   "cell_type": "markdown",
   "id": "2f16d91f-d76a-4ecc-a032-89d4d575d6a9",
   "metadata": {},
   "source": [
    "Métodos de Tupla Python tem dois métodos:\n",
    "\n",
    "* count () Retorna o número de vezes que um valor especificado ocorre em uma tupla\n",
    "* index () Pesquisa a tupla por um valor especificado e retorna a posição de onde foi encontrado"
   ]
  },
  {
   "cell_type": "code",
   "execution_count": 147,
   "id": "8a789911-8c1e-4417-9ca8-871b81e11295",
   "metadata": {},
   "outputs": [
    {
     "data": {
      "text/plain": [
       "1"
      ]
     },
     "execution_count": 147,
     "metadata": {},
     "output_type": "execute_result"
    }
   ],
   "source": [
    "tupla_cores = (\"Amarelo\", \"Azul\", \"Vermelho\", \"Rosa\", \"Marrom\")\n",
    "tupla_cores.count(\"Amarelo\")"
   ]
  },
  {
   "cell_type": "code",
   "execution_count": 151,
   "id": "1f4c644f-e7f5-41f9-99a6-6ec51b1dca10",
   "metadata": {},
   "outputs": [
    {
     "data": {
      "text/plain": [
       "2"
      ]
     },
     "execution_count": 151,
     "metadata": {},
     "output_type": "execute_result"
    }
   ],
   "source": [
    "tupla_cores = (\"Amarelo\", \"Azul\", \"Vermelho\", \"Rosa\", \"Marrom\")\n",
    "tupla_cores.index(\"Vermelho\")"
   ]
  }
 ],
 "metadata": {
  "kernelspec": {
   "display_name": "Python 3 (ipykernel)",
   "language": "python",
   "name": "python3"
  },
  "language_info": {
   "codemirror_mode": {
    "name": "ipython",
    "version": 3
   },
   "file_extension": ".py",
   "mimetype": "text/x-python",
   "name": "python",
   "nbconvert_exporter": "python",
   "pygments_lexer": "ipython3",
   "version": "3.12.7"
  }
 },
 "nbformat": 4,
 "nbformat_minor": 5
}
