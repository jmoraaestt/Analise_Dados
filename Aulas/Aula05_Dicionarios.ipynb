{
 "cells": [
  {
   "cell_type": "markdown",
   "id": "1b6241b1-bbaa-4979-aaa0-13bbb1d808bb",
   "metadata": {},
   "source": [
    "## Estruturas de Dados - Dicionários"
   ]
  },
  {
   "cell_type": "markdown",
   "id": "d38c1974-84e7-4759-9261-01432c3dafe9",
   "metadata": {},
   "source": [
    "* Coleção não ordenada, mutável e indexada. Utiliza dos recursos de chaves e valores.\n",
    "* Declarada por { }."
   ]
  },
  {
   "cell_type": "code",
   "execution_count": 10,
   "id": "9bb14358-1721-4155-a864-a50710ce0a6b",
   "metadata": {},
   "outputs": [
    {
     "name": "stdout",
     "output_type": "stream",
     "text": [
      "{'id': 1, 'nome': 'Mariana', 'sexo': 'F'}\n"
     ]
    }
   ],
   "source": [
    "dict_pessoa = {\n",
    "    \"id\":1,\n",
    "    \"nome\":\"Mariana\",\n",
    "    \"sexo\":\"F\"\n",
    "}\n",
    "\n",
    "print(dict_pessoa)"
   ]
  },
  {
   "cell_type": "markdown",
   "id": "2173ae6c-062f-4e90-8762-c9c9d94c9661",
   "metadata": {},
   "source": [
    "### Acessar Itens"
   ]
  },
  {
   "cell_type": "markdown",
   "id": "dee46b5b-04a8-4d51-965c-8ec801c916a7",
   "metadata": {},
   "source": [
    "* Para acessar um item, utilize o nome da chaves entre colchetes."
   ]
  },
  {
   "cell_type": "code",
   "execution_count": 20,
   "id": "eb6d889b-72f9-4436-8920-952c12cc52cc",
   "metadata": {},
   "outputs": [
    {
     "name": "stdout",
     "output_type": "stream",
     "text": [
      "Mariana\n",
      "F\n"
     ]
    }
   ],
   "source": [
    "print(dict_pessoa[\"nome\"])\n",
    "print(dict_pessoa[\"sexo\"])"
   ]
  },
  {
   "cell_type": "markdown",
   "id": "659a28ad-802a-4118-be8b-e56311274b24",
   "metadata": {},
   "source": [
    "* O método **get()** também pode usado para acessar o item pela chave, mas não retornará erro se não existir. Ainda pode se definir um valor alternativo a ser retornado nesse caso."
   ]
  },
  {
   "cell_type": "code",
   "execution_count": 23,
   "id": "e98674a8-1bb1-43a4-838e-e0881af6228c",
   "metadata": {},
   "outputs": [],
   "source": [
    "dict_item = {\n",
    "\"preco\": 125.2, \n",
    "\"item\": \"Cadeira\",\n",
    "\"cod\": 1392\n",
    "}"
   ]
  },
  {
   "cell_type": "code",
   "execution_count": 27,
   "id": "fd9f7770-1a19-450b-a201-4005ddc5d1fe",
   "metadata": {},
   "outputs": [
    {
     "name": "stdout",
     "output_type": "stream",
     "text": [
      "Cadeira\n"
     ]
    }
   ],
   "source": [
    "x = dict_item.get(\"item\")\n",
    "print(x)"
   ]
  },
  {
   "cell_type": "code",
   "execution_count": 29,
   "id": "7f123fcd-4a77-4138-a978-5732bf97737b",
   "metadata": {},
   "outputs": [
    {
     "name": "stdout",
     "output_type": "stream",
     "text": [
      "None\n"
     ]
    }
   ],
   "source": [
    "x = dict_item.get(\"item_item\")\n",
    "print(x)"
   ]
  },
  {
   "cell_type": "code",
   "execution_count": 35,
   "id": "0e1a0e71-dd5b-4f45-af7b-3e28fcd16855",
   "metadata": {},
   "outputs": [
    {
     "name": "stdout",
     "output_type": "stream",
     "text": [
      "Cadeira\n"
     ]
    }
   ],
   "source": [
    "x = dict_item.get(\"item\", \"Não encontrado\")\n",
    "print(x)"
   ]
  },
  {
   "cell_type": "code",
   "execution_count": 33,
   "id": "342ce16c-75c2-45d7-aa18-6405da4c585a",
   "metadata": {},
   "outputs": [
    {
     "name": "stdout",
     "output_type": "stream",
     "text": [
      "Não encontrado\n"
     ]
    }
   ],
   "source": [
    "x = dict_item.get(\"ite\", \"Não encontrado\")\n",
    "print(x)"
   ]
  },
  {
   "cell_type": "markdown",
   "id": "2d1e84ce-d0da-41c3-bda9-9409d8e29d96",
   "metadata": {},
   "source": [
    "### Mudando Valores"
   ]
  },
  {
   "cell_type": "code",
   "execution_count": 50,
   "id": "085f5eb2-1a43-4a9f-a6ea-3a565145b49f",
   "metadata": {},
   "outputs": [
    {
     "name": "stdout",
     "output_type": "stream",
     "text": [
      "{'id': 30, 'sigla': 'S', 'nome': 'Sul'}\n"
     ]
    }
   ],
   "source": [
    "dict_regiao_sul = {\n",
    "    \"id\": 1,\n",
    "    \"sigla\": \"S\",\n",
    "    \"nome\": \"Sul\"\n",
    "}\n",
    "\n",
    "dict_regiao_sul[\"id\"] = 30\n",
    "\n",
    "print(dict_regiao_sul)"
   ]
  },
  {
   "cell_type": "markdown",
   "id": "831aeb9b-c15c-427b-b62b-ceaf7b85ebd8",
   "metadata": {},
   "source": [
    "* Adicionando um valor"
   ]
  },
  {
   "cell_type": "code",
   "execution_count": 47,
   "id": "d9997941-9764-49fe-9d42-d02c33a3361c",
   "metadata": {},
   "outputs": [
    {
     "name": "stdout",
     "output_type": "stream",
     "text": [
      "{'id': 30, 'sigla': 'S', 'nome': 'Sul', 'cod': 3922}\n"
     ]
    }
   ],
   "source": [
    "dict_regiao_sul[\"cod\"] = 3922\n",
    "\n",
    "print(dict_regiao_sul)"
   ]
  },
  {
   "cell_type": "markdown",
   "id": "d3fb8992-8c48-4811-b87e-08eaee3558fd",
   "metadata": {},
   "source": [
    "### Percorrendo um Dicionário"
   ]
  },
  {
   "cell_type": "code",
   "execution_count": 57,
   "id": "6ce2444a-d342-4037-abd4-400f7d47ea50",
   "metadata": {},
   "outputs": [
    {
     "name": "stdout",
     "output_type": "stream",
     "text": [
      "id\n",
      "nome\n",
      "sexo\n",
      "endereco\n"
     ]
    }
   ],
   "source": [
    "dict_pessoa = {\n",
    "    \"id\":1,\n",
    "    \"nome\":\"Mariana\",\n",
    "    \"sexo\":\"F\",\n",
    "    \"endereco\":\"Rua das Flores\"\n",
    "}\n",
    "\n",
    "for x in dict_pessoa:\n",
    "    print(x)"
   ]
  },
  {
   "cell_type": "code",
   "execution_count": 59,
   "id": "f1333fba-2c3a-4719-a913-c2998809f13a",
   "metadata": {},
   "outputs": [
    {
     "name": "stdout",
     "output_type": "stream",
     "text": [
      "1\n",
      "Mariana\n",
      "F\n",
      "Rua das Flores\n"
     ]
    }
   ],
   "source": [
    "for x in dict_pessoa: \n",
    "    print(dict_pessoa[x])"
   ]
  },
  {
   "cell_type": "code",
   "execution_count": 69,
   "id": "303f3056-dbb5-44aa-b0cf-0cc6ebf476b1",
   "metadata": {},
   "outputs": [
    {
     "name": "stdout",
     "output_type": "stream",
     "text": [
      "id = 1\n",
      "nome = Mariana\n",
      "sexo = F\n",
      "endereco = Rua das Flores\n"
     ]
    }
   ],
   "source": [
    "for x in dict_pessoa:\n",
    "    print(x, \"=\", dict_pessoa.get(x))"
   ]
  },
  {
   "cell_type": "markdown",
   "id": "ff50cc4a-ce74-4ef3-abce-649dbac3f745",
   "metadata": {},
   "source": [
    "* Use um forloop e o método **.values()** para percorrer os dict retornando os valores de item."
   ]
  },
  {
   "cell_type": "code",
   "execution_count": 74,
   "id": "ffe92a5f-6863-4f28-990f-debca5e5145f",
   "metadata": {},
   "outputs": [
    {
     "data": {
      "text/plain": [
       "dict_values([1, 'Mariana', 'F', 'Rua das Flores'])"
      ]
     },
     "execution_count": 74,
     "metadata": {},
     "output_type": "execute_result"
    }
   ],
   "source": [
    "dict_pessoa.values()"
   ]
  },
  {
   "cell_type": "code",
   "execution_count": 77,
   "id": "408a4b09-64f2-4e0e-8d1b-b6dbc5fc2136",
   "metadata": {},
   "outputs": [
    {
     "name": "stdout",
     "output_type": "stream",
     "text": [
      "1\n",
      "Mariana\n",
      "F\n",
      "Rua das Flores\n"
     ]
    }
   ],
   "source": [
    "for x in dict_pessoa.values():\n",
    "    print(x)"
   ]
  },
  {
   "cell_type": "markdown",
   "id": "1053625c-03e4-4d4f-88f2-5202e77e5002",
   "metadata": {},
   "source": [
    "* Use um forloop e o método **.items()** para percorrer os dict retornando a chave e o valor de cada item."
   ]
  },
  {
   "cell_type": "code",
   "execution_count": 86,
   "id": "abb6b129-c08a-44a3-957a-0e991c1c8518",
   "metadata": {},
   "outputs": [
    {
     "name": "stdout",
     "output_type": "stream",
     "text": [
      "id = 1\n",
      "nome = Mariana\n",
      "sexo = F\n",
      "endereco = Rua das Flores\n"
     ]
    }
   ],
   "source": [
    "for chave, items in dict_pessoa.items():\n",
    "    print(chave, '=', items)"
   ]
  },
  {
   "cell_type": "markdown",
   "id": "a925ef75-c883-4b26-ba33-651bcd079364",
   "metadata": {},
   "source": [
    "### Verificando Se Determinada Chave Existe"
   ]
  },
  {
   "cell_type": "code",
   "execution_count": 95,
   "id": "a368a0f2-8554-47fc-ac14-d1abf5f41255",
   "metadata": {},
   "outputs": [
    {
     "name": "stdout",
     "output_type": "stream",
     "text": [
      "Marca é uma chave nesse dicionário.\n"
     ]
    }
   ],
   "source": [
    "dict_carro = {\n",
    "    \"marca\":\"Toyota\",\n",
    "    \"modelo\":\"Corolla\",\n",
    "    \"ano\":2021,\n",
    "    \"cor\":\"Prata\"\n",
    "}\n",
    "if \"marca\" in dict_carro:\n",
    "    print(\"Marca é uma chave nesse dicionário.\")"
   ]
  },
  {
   "cell_type": "code",
   "execution_count": 109,
   "id": "64e45b5d-c554-4e0d-820e-18b48d248d23",
   "metadata": {},
   "outputs": [],
   "source": [
    "texto = \"\"\"id,idade,nome\n",
    "1,12,Carla\"\"\""
   ]
  },
  {
   "cell_type": "code",
   "execution_count": 111,
   "id": "308310fb-c785-49fe-8626-77ebb53511b8",
   "metadata": {},
   "outputs": [],
   "source": [
    "linhas = texto.splitlines()"
   ]
  },
  {
   "cell_type": "code",
   "execution_count": 113,
   "id": "2950c73b-da31-4b1d-9064-160b7c3499b4",
   "metadata": {},
   "outputs": [
    {
     "data": {
      "text/plain": [
       "['id,idade,nome', '1,12,Carla']"
      ]
     },
     "execution_count": 113,
     "metadata": {},
     "output_type": "execute_result"
    }
   ],
   "source": [
    "linhas"
   ]
  },
  {
   "cell_type": "code",
   "execution_count": 121,
   "id": "c8d35183-6910-4fc3-be94-8d38a2f2718f",
   "metadata": {},
   "outputs": [
    {
     "name": "stdout",
     "output_type": "stream",
     "text": [
      "{'id': '1', 'idade': '12', 'nome': 'Carla'}\n"
     ]
    }
   ],
   "source": [
    "dict1 = {}\n",
    "posicao = 0\n",
    "\n",
    "for chave in linhas[0].split(','):\n",
    "    dict1[chave] = linhas[1].split(',')[posicao]\n",
    "    posicao+=1\n",
    "print(dict1)"
   ]
  },
  {
   "cell_type": "code",
   "execution_count": 123,
   "id": "482c8cae-828a-4b12-8bea-840b982bbef6",
   "metadata": {},
   "outputs": [],
   "source": [
    "texto = \"\"\"id,idade,nome\n",
    "1,12,Carla\n",
    "2,24,Ana\"\"\""
   ]
  },
  {
   "cell_type": "code",
   "execution_count": 127,
   "id": "bd614dbc-d794-4794-963d-8bee62d55b9c",
   "metadata": {},
   "outputs": [
    {
     "name": "stdout",
     "output_type": "stream",
     "text": [
      "['id,idade,nome', '1,12,Carla', '2,24,Ana']\n"
     ]
    }
   ],
   "source": [
    "linhas = texto.splitlines()\n",
    "print(linhas)"
   ]
  },
  {
   "cell_type": "code",
   "execution_count": 141,
   "id": "af9b938e-3cc0-43fb-9502-4121e1c1b49d",
   "metadata": {},
   "outputs": [
    {
     "name": "stdout",
     "output_type": "stream",
     "text": [
      "[{'id': '1', 'idade': '12', 'nome': 'Carla'}, {'id': '2', 'idade': '24', 'nome': 'Ana'}]\n"
     ]
    }
   ],
   "source": [
    "list_dict = []\n",
    "for linha in linhas[1:]:\n",
    "    posicao = 0\n",
    "    dict1 = {}\n",
    "    for chave in linhas[0].split(','):\n",
    "        dict1[chave] = linha.split(',')[posicao]\n",
    "        posicao+=1\n",
    "    list_dict.append(dict1)\n",
    "print(list_dict)\n",
    "    "
   ]
  },
  {
   "cell_type": "code",
   "execution_count": 143,
   "id": "d843a170-b8eb-43b1-bead-02f0a63816fa",
   "metadata": {},
   "outputs": [
    {
     "data": {
      "text/plain": [
       "'24'"
      ]
     },
     "execution_count": 143,
     "metadata": {},
     "output_type": "execute_result"
    }
   ],
   "source": [
    "list_dict[1][\"idade\"]"
   ]
  },
  {
   "cell_type": "code",
   "execution_count": 147,
   "id": "096006aa-6f0b-4639-945e-74fadad84f54",
   "metadata": {},
   "outputs": [
    {
     "data": {
      "text/plain": [
       "'Carla'"
      ]
     },
     "execution_count": 147,
     "metadata": {},
     "output_type": "execute_result"
    }
   ],
   "source": [
    "list_dict[0][\"nome\"]"
   ]
  },
  {
   "cell_type": "code",
   "execution_count": 149,
   "id": "49ccb86a-8087-4d9c-a84c-ace9c1e7d277",
   "metadata": {},
   "outputs": [
    {
     "name": "stdout",
     "output_type": "stream",
     "text": [
      "{'Carla': {'id': '1', 'idade': '12', 'nome': 'Carla'}, 'Ana': {'id': '2', 'idade': '24', 'nome': 'Ana'}}\n"
     ]
    }
   ],
   "source": [
    "dicts = {}\n",
    "for linha in linhas[1:]:\n",
    "    posicao = 0\n",
    "    dict1 = {}\n",
    "    for chave in linhas[0].split(','):\n",
    "        dict1[chave] = linha.split(',')[posicao]\n",
    "        posicao+=1;\n",
    "    nome = dict1[\"nome\"]\n",
    "    dicts[nome] = dict1\n",
    "print(dicts)"
   ]
  },
  {
   "cell_type": "markdown",
   "id": "a16a12d5-dd52-4f09-b837-4ec1927dc1e6",
   "metadata": {},
   "source": [
    "### Verificando a Quantidade de Itens"
   ]
  },
  {
   "cell_type": "code",
   "execution_count": 153,
   "id": "616270c0-2104-48a6-8931-35e57d583779",
   "metadata": {},
   "outputs": [
    {
     "name": "stdout",
     "output_type": "stream",
     "text": [
      "4\n"
     ]
    }
   ],
   "source": [
    "dict_carro = {\n",
    "    \"marca\":\"Toyota\",\n",
    "    \"modelo\":\"Corolla\",\n",
    "    \"ano\":2021,\n",
    "    \"cor\":\"Prata\"\n",
    "}\n",
    "print(len(dict_carro))"
   ]
  },
  {
   "cell_type": "markdown",
   "id": "bba08bc1-e939-4183-95ba-f9b85e1a59df",
   "metadata": {},
   "source": [
    "### Adicionando Itens"
   ]
  },
  {
   "cell_type": "code",
   "execution_count": 156,
   "id": "5f9f8550-9b18-42e7-9815-36d4819ea0c4",
   "metadata": {},
   "outputs": [
    {
     "name": "stdout",
     "output_type": "stream",
     "text": [
      "{'nome': 'Mariana', 'idade': 12, 'sexo': 'F', 'codigo': 1392, 'pais': 'Brasil'}\n"
     ]
    }
   ],
   "source": [
    "dict_cadastro = {\n",
    "    \"nome\":\"Mariana\",\n",
    "    \"idade\":12,\n",
    "    \"sexo\":\"F\",\n",
    "    \"codigo\":1392\n",
    "}\n",
    "\n",
    "dict_cadastro[\"pais\"] = \"Brasil\"\n",
    "print(dict_cadastro)"
   ]
  },
  {
   "cell_type": "markdown",
   "id": "e14872ec-4a30-42a1-b8e4-25135d7ab844",
   "metadata": {},
   "source": [
    "### Removendo Itens"
   ]
  },
  {
   "cell_type": "markdown",
   "id": "a98d956b-9439-43bc-88c0-601532cd9226",
   "metadata": {},
   "source": [
    "* O método pop() remove o item com o nome de chave especificado:"
   ]
  },
  {
   "cell_type": "code",
   "execution_count": 160,
   "id": "88cce302-8ad5-4494-b93c-630c03a81efe",
   "metadata": {},
   "outputs": [
    {
     "name": "stdout",
     "output_type": "stream",
     "text": [
      "{'nome': 'Mariana', 'sexo': 'F', 'codigo': 1392, 'pais': 'BrasiL'}\n"
     ]
    }
   ],
   "source": [
    "dict_cadastro = {\n",
    "    \"nome\":\"Mariana\",\n",
    "    \"idade\":12,\n",
    "    \"sexo\":\"F\",\n",
    "    \"codigo\":1392,\n",
    "    \"pais\":\"BrasiL\"\n",
    "}\n",
    "\n",
    "dict_cadastro.pop(\"idade\")\n",
    "print(dict_cadastro)"
   ]
  },
  {
   "cell_type": "markdown",
   "id": "8772960d-6646-44b3-a057-1513d1a84a6b",
   "metadata": {},
   "source": [
    "* O método popitem() remove o último item inserido (nas versões anteriores à 3.7, um item aleatório é removido):"
   ]
  },
  {
   "cell_type": "code",
   "execution_count": 164,
   "id": "c7f0655e-8d11-469f-93bb-a05f2d3e0b26",
   "metadata": {},
   "outputs": [
    {
     "name": "stdout",
     "output_type": "stream",
     "text": [
      "{'nome': 'Mariana', 'idade': 12, 'sexo': 'F', 'codigo': 1392}\n"
     ]
    }
   ],
   "source": [
    "dict_cadastro = {\n",
    "    \"nome\":\"Mariana\",\n",
    "    \"idade\":12,\n",
    "    \"sexo\":\"F\",\n",
    "    \"codigo\":1392,\n",
    "    \"pais\":\"BrasiL\"\n",
    "}\n",
    "\n",
    "dict_cadastro.popitem()\n",
    "print(dict_cadastro)"
   ]
  },
  {
   "cell_type": "markdown",
   "id": "3cd65630-e8f2-4dd1-9068-baa006019cd4",
   "metadata": {},
   "source": [
    "* A palavra-chave **del** remove o item com o nome de chave especificado."
   ]
  },
  {
   "cell_type": "code",
   "execution_count": 167,
   "id": "4f9bfa95-0171-43ee-b45d-4064ff164b5e",
   "metadata": {},
   "outputs": [
    {
     "name": "stdout",
     "output_type": "stream",
     "text": [
      "{'idade': 12, 'sexo': 'F', 'codigo': 1392, 'pais': 'BrasiL'}\n"
     ]
    }
   ],
   "source": [
    "dict_cadastro = {\n",
    "    \"nome\":\"Mariana\",\n",
    "    \"idade\":12,\n",
    "    \"sexo\":\"F\",\n",
    "    \"codigo\":1392,\n",
    "    \"pais\":\"BrasiL\"\n",
    "}\n",
    "\n",
    "del dict_cadastro[\"nome\"]\n",
    "print(dict_cadastro)"
   ]
  },
  {
   "cell_type": "markdown",
   "id": "68778106-c428-4fec-a1b4-a55fed8ab60e",
   "metadata": {},
   "source": [
    "* A palavra-chave del também pode excluir o dicionário completamente."
   ]
  },
  {
   "cell_type": "code",
   "execution_count": 170,
   "id": "e0542ea8-e92e-4d07-8e35-98c8834228f8",
   "metadata": {},
   "outputs": [
    {
     "ename": "NameError",
     "evalue": "name 'dict_cadastro' is not defined",
     "output_type": "error",
     "traceback": [
      "\u001b[1;31m---------------------------------------------------------------------------\u001b[0m",
      "\u001b[1;31mNameError\u001b[0m                                 Traceback (most recent call last)",
      "Cell \u001b[1;32mIn[170], line 10\u001b[0m\n\u001b[0;32m      1\u001b[0m dict_cadastro \u001b[38;5;241m=\u001b[39m {\n\u001b[0;32m      2\u001b[0m     \u001b[38;5;124m\"\u001b[39m\u001b[38;5;124mnome\u001b[39m\u001b[38;5;124m\"\u001b[39m:\u001b[38;5;124m\"\u001b[39m\u001b[38;5;124mMariana\u001b[39m\u001b[38;5;124m\"\u001b[39m,\n\u001b[0;32m      3\u001b[0m     \u001b[38;5;124m\"\u001b[39m\u001b[38;5;124midade\u001b[39m\u001b[38;5;124m\"\u001b[39m:\u001b[38;5;241m12\u001b[39m,\n\u001b[1;32m   (...)\u001b[0m\n\u001b[0;32m      6\u001b[0m     \u001b[38;5;124m\"\u001b[39m\u001b[38;5;124mpais\u001b[39m\u001b[38;5;124m\"\u001b[39m:\u001b[38;5;124m\"\u001b[39m\u001b[38;5;124mBrasiL\u001b[39m\u001b[38;5;124m\"\u001b[39m\n\u001b[0;32m      7\u001b[0m }\n\u001b[0;32m      9\u001b[0m \u001b[38;5;28;01mdel\u001b[39;00m dict_cadastro\n\u001b[1;32m---> 10\u001b[0m \u001b[38;5;28mprint\u001b[39m(dict_cadastro)\n",
      "\u001b[1;31mNameError\u001b[0m: name 'dict_cadastro' is not defined"
     ]
    }
   ],
   "source": [
    "dict_cadastro = {\n",
    "    \"nome\":\"Mariana\",\n",
    "    \"idade\":12,\n",
    "    \"sexo\":\"F\",\n",
    "    \"codigo\":1392,\n",
    "    \"pais\":\"BrasiL\"\n",
    "}\n",
    "\n",
    "del dict_cadastro\n",
    "print(dict_cadastro)"
   ]
  },
  {
   "cell_type": "markdown",
   "id": "91c0c626-b088-468d-9c51-0b16dfabac31",
   "metadata": {},
   "source": [
    "### Esvaziando Um Dicionário"
   ]
  },
  {
   "cell_type": "markdown",
   "id": "b2fa901c-f5bc-4498-8a1f-3510c8bae7d0",
   "metadata": {},
   "source": [
    "* Utiliza-se o método **clear()**"
   ]
  },
  {
   "cell_type": "code",
   "execution_count": 176,
   "id": "4df6c40f-e2ad-4784-8a25-3829b384bf0d",
   "metadata": {},
   "outputs": [
    {
     "name": "stdout",
     "output_type": "stream",
     "text": [
      "{}\n"
     ]
    }
   ],
   "source": [
    "dict_cadastro = {\n",
    "    \"nome\": \"Carlos\",\n",
    "    \"idade\": 18,\n",
    "    \"sexo\": \"M\",\n",
    "    \"codigo\": 4820,\n",
    "    \"pais\": \"México\"\n",
    "}\n",
    "\n",
    "dict_cadastro.clear()\n",
    "print(dict_cadastro)\n"
   ]
  },
  {
   "cell_type": "markdown",
   "id": "66e9f6f5-ee57-408e-9740-891945028f7d",
   "metadata": {},
   "source": [
    "### Copiando um Dicionário"
   ]
  },
  {
   "cell_type": "markdown",
   "id": "f1ebef35-3f4a-4f04-abd0-496d73d88d65",
   "metadata": {},
   "source": [
    "* Não-se pode copiar um dict simplesmente digitando dict2 = dict1 O dict2 será uma referência ao dict1 As alterações feitas em dict1 refletirão no dict2."
   ]
  },
  {
   "cell_type": "markdown",
   "id": "b3e61dcf-9654-483f-8d56-d982c622baaa",
   "metadata": {},
   "source": [
    "#### Utilizando o Método copy()"
   ]
  },
  {
   "cell_type": "code",
   "execution_count": 183,
   "id": "fad140a8-9ddf-4535-90e3-5ccb799ddb04",
   "metadata": {},
   "outputs": [
    {
     "name": "stdout",
     "output_type": "stream",
     "text": [
      "{'nome': 'Carlos', 'idade': 18, 'sexo': 'M', 'codigo': 4820, 'pais': 'México'}\n"
     ]
    }
   ],
   "source": [
    "dict_cadastro = {\n",
    "    \"nome\": \"Carlos\",\n",
    "    \"idade\": 18,\n",
    "    \"sexo\": \"M\",\n",
    "    \"codigo\": 4820,\n",
    "    \"pais\": \"México\"\n",
    "}\n",
    "meu_dict = dict_cadastro.copy()\n",
    "print(meu_dict)"
   ]
  },
  {
   "cell_type": "markdown",
   "id": "02410dd8-07c7-46ed-bb93-7d0cf6d85abb",
   "metadata": {},
   "source": [
    "#### Utilizando a Função dict()"
   ]
  },
  {
   "cell_type": "code",
   "execution_count": 186,
   "id": "2d222b9d-6f61-4828-8d98-7ef2696bdd92",
   "metadata": {},
   "outputs": [
    {
     "name": "stdout",
     "output_type": "stream",
     "text": [
      "{'nome': 'Carlos', 'idade': 18, 'sexo': 'M', 'codigo': 4820, 'pais': 'México'}\n"
     ]
    }
   ],
   "source": [
    "dict_cadastro = {\n",
    "    \"nome\": \"Carlos\",\n",
    "    \"idade\": 18,\n",
    "    \"sexo\": \"M\",\n",
    "    \"codigo\": 4820,\n",
    "    \"pais\": \"México\"\n",
    "}\n",
    "meu_dict = dict(dict_cadastro)\n",
    "print(meu_dict)"
   ]
  },
  {
   "cell_type": "markdown",
   "id": "f550efbe-8898-4393-a980-9e164b3409b7",
   "metadata": {},
   "source": [
    "### Dicionários Aninhados"
   ]
  },
  {
   "cell_type": "code",
   "execution_count": 2,
   "id": "642592f2-9585-431c-a49f-dc5087c9005c",
   "metadata": {},
   "outputs": [
    {
     "name": "stdout",
     "output_type": "stream",
     "text": [
      "{'1': {'sigla': 'N', 'nome': 'Norte'}, '2': {'sigla': 'NE', 'nome': 'Nordeste'}, '3': {'sigla': 'SE', 'nome': 'Sudeste'}, '4': {'sigla': 'S', 'nome': 'Sul'}, '5': {'sigla': 'CO', 'nome': 'Centro-Oeste'}}\n"
     ]
    }
   ],
   "source": [
    "regioes_dict = {\n",
    "    \"1\": {\n",
    "        \"sigla\":\"N\",\n",
    "        \"nome\":\"Norte\"\n",
    "        },\n",
    "    \"2\": {\n",
    "        \"sigla\":\"NE\",\n",
    "        \"nome\":\"Nordeste\"\n",
    "        },\n",
    "    \"3\": {\n",
    "        \"sigla\":\"SE\",\n",
    "        \"nome\":\"Sudeste\"\n",
    "        },\n",
    "    \"4\": {\n",
    "        \"sigla\":\"S\",\n",
    "        \"nome\":\"Sul\"},\n",
    "    \"5\": {\n",
    "        \"sigla\":\"CO\",\n",
    "        \"nome\":\"Centro-Oeste\"\n",
    "        }\n",
    "    }\n",
    "\n",
    "print(regioes_dict)"
   ]
  },
  {
   "cell_type": "markdown",
   "id": "a61707d3-dd12-4392-9834-16fb13bca93b",
   "metadata": {},
   "source": [
    "### Métodos do Dicionário"
   ]
  },
  {
   "cell_type": "markdown",
   "id": "6a5b1f48-f23a-48ea-ab2b-34c0a8e80f29",
   "metadata": {},
   "source": [
    "* **fromkeys()** Retorna um dicionário com as chaves e valores especificados\n",
    "* **keys()** Retorna uma lista contendo as chaves do dicionário\n",
    "* **setdefault()** Retorna o valor da chave especificada. Se a chave não existe: insira a chave, com o valor especificado\n",
    "* **update()** Atualiza o dicionário com os pares de valores-chave especificados"
   ]
  },
  {
   "cell_type": "code",
   "execution_count": 6,
   "id": "5e96296d-86f5-4879-a3a4-b0332ee748b2",
   "metadata": {},
   "outputs": [],
   "source": [
    "dict_sul = {\n",
    "    \"id\":1,\n",
    "    \"sigla\":\"S\",\n",
    "    \"nome\":\"Sul\"\n",
    "}"
   ]
  },
  {
   "cell_type": "code",
   "execution_count": 10,
   "id": "2dbaf2ae-9669-4a00-baed-e940b8cf0c9a",
   "metadata": {},
   "outputs": [
    {
     "data": {
      "text/plain": [
       "{'sigla': None}"
      ]
     },
     "execution_count": 10,
     "metadata": {},
     "output_type": "execute_result"
    }
   ],
   "source": [
    "dict_sul.fromkeys([\"sigla\"])"
   ]
  },
  {
   "cell_type": "code",
   "execution_count": 12,
   "id": "0b9907fb-2ea7-449b-b865-2e236a2bdd35",
   "metadata": {},
   "outputs": [
    {
     "data": {
      "text/plain": [
       "dict_keys(['id', 'sigla', 'nome'])"
      ]
     },
     "execution_count": 12,
     "metadata": {},
     "output_type": "execute_result"
    }
   ],
   "source": [
    "dict_sul.keys()"
   ]
  },
  {
   "cell_type": "code",
   "execution_count": 18,
   "id": "af008638-bb75-4b44-b42b-e23daf08a764",
   "metadata": {},
   "outputs": [
    {
     "data": {
      "text/plain": [
       "'Brasil'"
      ]
     },
     "execution_count": 18,
     "metadata": {},
     "output_type": "execute_result"
    }
   ],
   "source": [
    "dict_sul.setdefault('pais','Brasil')"
   ]
  },
  {
   "cell_type": "code",
   "execution_count": 20,
   "id": "8633758d-6508-48ca-adaa-0dee8b79f53f",
   "metadata": {},
   "outputs": [
    {
     "name": "stdout",
     "output_type": "stream",
     "text": [
      "{'id': 1, 'sigla': 'S', 'nome': 'Sul', 'pais': 'Brasil'}\n"
     ]
    }
   ],
   "source": [
    "print(dict_sul)"
   ]
  },
  {
   "cell_type": "code",
   "execution_count": 23,
   "id": "5fd4a2a2-0a11-4bc9-9c82-2386cea15bef",
   "metadata": {},
   "outputs": [
    {
     "data": {
      "text/plain": [
       "'Sul'"
      ]
     },
     "execution_count": 23,
     "metadata": {},
     "output_type": "execute_result"
    }
   ],
   "source": [
    "dict_sul.setdefault('nome','leste')"
   ]
  }
 ],
 "metadata": {
  "kernelspec": {
   "display_name": "Python 3 (ipykernel)",
   "language": "python",
   "name": "python3"
  },
  "language_info": {
   "codemirror_mode": {
    "name": "ipython",
    "version": 3
   },
   "file_extension": ".py",
   "mimetype": "text/x-python",
   "name": "python",
   "nbconvert_exporter": "python",
   "pygments_lexer": "ipython3",
   "version": "3.12.7"
  }
 },
 "nbformat": 4,
 "nbformat_minor": 5
}
