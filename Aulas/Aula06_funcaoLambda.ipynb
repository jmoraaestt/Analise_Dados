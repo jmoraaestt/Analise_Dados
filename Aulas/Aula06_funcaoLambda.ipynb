{
 "cells": [
  {
   "cell_type": "markdown",
   "id": "4de9c947-b440-4182-86e6-13b04e5484ab",
   "metadata": {},
   "source": [
    "## Função Lambda"
   ]
  },
  {
   "cell_type": "markdown",
   "id": "7601d5bd-e0ac-4596-a33d-e24371b24e60",
   "metadata": {},
   "source": [
    "#### Pode receber uma quantidade indeterminada de argumentos, entretanto, havendo somente uma expressão."
   ]
  },
  {
   "cell_type": "markdown",
   "id": "811c5429-9d07-4e07-979b-7c4176770431",
   "metadata": {},
   "source": [
    "* Sintaxe ->\n",
    "      lambda arguments : expression"
   ]
  },
  {
   "cell_type": "code",
   "execution_count": 12,
   "id": "56cc5109-9e18-465d-b6be-c593f1d06fc9",
   "metadata": {},
   "outputs": [
    {
     "name": "stdout",
     "output_type": "stream",
     "text": [
      "4\n"
     ]
    }
   ],
   "source": [
    "fun = lambda x: x**2\n",
    "print(fun(2))"
   ]
  },
  {
   "cell_type": "markdown",
   "id": "45a846f2-683d-48dd-bbef-d5e634e18e99",
   "metadata": {},
   "source": [
    "### Recebendo mais de um argumento"
   ]
  },
  {
   "cell_type": "code",
   "execution_count": 17,
   "id": "01ca4ced-2d9a-4309-9094-6689a9ab2aac",
   "metadata": {},
   "outputs": [
    {
     "name": "stdout",
     "output_type": "stream",
     "text": [
      "36\n"
     ]
    }
   ],
   "source": [
    "fun = lambda x,y,z: (x+y)**z\n",
    "print(fun(5,1,2))"
   ]
  },
  {
   "cell_type": "markdown",
   "id": "22ad1a50-1c01-46c1-b774-f3511f08e58b",
   "metadata": {},
   "source": [
    "### Utilizando uma função anônima dentro de outra função"
   ]
  },
  {
   "cell_type": "code",
   "execution_count": 23,
   "id": "2eb6d5ec-c520-489e-a20b-973d2faf497a",
   "metadata": {},
   "outputs": [
    {
     "name": "stdout",
     "output_type": "stream",
     "text": [
      "4\n"
     ]
    }
   ],
   "source": [
    "def quadrado ():\n",
    "    return lambda x: x**2\n",
    "\n",
    "funcquad = quadrado()\n",
    "print(funcquad(2))"
   ]
  },
  {
   "cell_type": "code",
   "execution_count": 29,
   "id": "8ad76f5a-c678-4396-ac3d-1bd277805ced",
   "metadata": {},
   "outputs": [
    {
     "name": "stdout",
     "output_type": "stream",
     "text": [
      "1000\n"
     ]
    }
   ],
   "source": [
    "def potencia(p):\n",
    "    return lambda x: x**p\n",
    "funcpot = potencia(3)\n",
    "print(funcpot(10))"
   ]
  },
  {
   "cell_type": "markdown",
   "id": "a930dc39-e36d-448c-b7c0-24b349c3e1b0",
   "metadata": {},
   "source": [
    "### map()"
   ]
  },
  {
   "cell_type": "markdown",
   "id": "a4517c3a-43c8-4ec5-9678-beaff762ae15",
   "metadata": {},
   "source": [
    "* A função map() em Python é uma ferramenta poderosa usada para aplicar uma função a cada item de um iterável (como uma lista, tupla ou string) e retornar um iterador com os resultados.\n",
    "* Sintaxe: map(function_to_apply, list_of_inputs)\n",
    "\n"
   ]
  },
  {
   "cell_type": "code",
   "execution_count": 13,
   "id": "61e65a29-dd18-416a-9cf6-513b350af1aa",
   "metadata": {},
   "outputs": [
    {
     "name": "stdout",
     "output_type": "stream",
     "text": [
      "[1, 4, 9, 16]\n"
     ]
    }
   ],
   "source": [
    "itens = [1,2,3,4]\n",
    "quadrado = []\n",
    "for x in itens:\n",
    "    quadrado.append(x**2)\n",
    "print(quadrado)"
   ]
  },
  {
   "cell_type": "code",
   "execution_count": 21,
   "id": "4d0e96fa-11f7-42b1-93dd-402100cb62b2",
   "metadata": {},
   "outputs": [],
   "source": [
    "def quad(x):\n",
    "    return x**2"
   ]
  },
  {
   "cell_type": "code",
   "execution_count": 25,
   "id": "aa3d5880-274a-4a11-9624-91f9241ac031",
   "metadata": {},
   "outputs": [
    {
     "name": "stdout",
     "output_type": "stream",
     "text": [
      "[1, 4, 9, 16]\n"
     ]
    }
   ],
   "source": [
    "itens = [1,2,3,4]\n",
    "quadrado = list(map(quad, itens))\n",
    "print(quadrado)"
   ]
  },
  {
   "cell_type": "code",
   "execution_count": 27,
   "id": "5682667b-28ae-46df-a95b-603b471c86f5",
   "metadata": {},
   "outputs": [],
   "source": [
    "def quad(x):\n",
    "    return x**2"
   ]
  },
  {
   "cell_type": "code",
   "execution_count": 31,
   "id": "b6e68a75-5006-4912-83b5-983ad30f88d6",
   "metadata": {},
   "outputs": [
    {
     "name": "stdout",
     "output_type": "stream",
     "text": [
      "[1, 4, 9, 16]\n"
     ]
    }
   ],
   "source": [
    "itens = [1,2,3,4]\n",
    "quadrado = list(map(lambda x: x**2, itens))\n",
    "print(quadrado)"
   ]
  },
  {
   "cell_type": "markdown",
   "id": "e5022c57-ce89-4c71-88fc-51e581046ff6",
   "metadata": {},
   "source": [
    "### reduce()"
   ]
  },
  {
   "cell_type": "markdown",
   "id": "c84921ce-da35-4207-8949-8779ca317490",
   "metadata": {},
   "source": [
    "* É uma função do módulo functools que agrega todos os valores em um único valor. Por exemplo, a soma dea todos os elementos de uma sequência."
   ]
  },
  {
   "cell_type": "code",
   "execution_count": 39,
   "id": "180e2e1b-9f44-4932-bfb0-cc9864d4cf61",
   "metadata": {},
   "outputs": [
    {
     "name": "stdout",
     "output_type": "stream",
     "text": [
      "10\n"
     ]
    }
   ],
   "source": [
    "from functools import reduce\n",
    "itens = [1,2,3,4]\n",
    "total = reduce(lambda x,y: x + y , itens)\n",
    "print(total)"
   ]
  },
  {
   "cell_type": "code",
   "execution_count": 43,
   "id": "e8b9b2f7-5cb5-41ea-b20a-93250c6d0162",
   "metadata": {},
   "outputs": [
    {
     "name": "stdout",
     "output_type": "stream",
     "text": [
      "10\n"
     ]
    }
   ],
   "source": [
    "import operator\n",
    "total = (reduce(operator.add, itens))\n",
    "print(total)"
   ]
  },
  {
   "cell_type": "markdown",
   "id": "8b77fc51-eea8-46df-84ed-e7a15f935411",
   "metadata": {},
   "source": [
    "### filter()"
   ]
  },
  {
   "cell_type": "markdown",
   "id": "bb0e806c-2953-40ea-8d2e-61758ae271d9",
   "metadata": {},
   "source": [
    "* Filtra os elementos de uma sequência por meio de uma função que retorna valores boleanos (True ou False)."
   ]
  },
  {
   "cell_type": "code",
   "execution_count": null,
   "id": "0c4f07cd-6839-4d97-8a53-b9af46559cbb",
   "metadata": {},
   "outputs": [],
   "source": []
  }
 ],
 "metadata": {
  "kernelspec": {
   "display_name": "Python 3 (ipykernel)",
   "language": "python",
   "name": "python3"
  },
  "language_info": {
   "codemirror_mode": {
    "name": "ipython",
    "version": 3
   },
   "file_extension": ".py",
   "mimetype": "text/x-python",
   "name": "python",
   "nbconvert_exporter": "python",
   "pygments_lexer": "ipython3",
   "version": "3.12.7"
  }
 },
 "nbformat": 4,
 "nbformat_minor": 5
}
